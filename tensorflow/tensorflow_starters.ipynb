{
 "cells": [
  {
   "cell_type": "markdown",
   "metadata": {},
   "source": [
    "# Intro to Tensorflow:"
   ]
  },
  {
   "cell_type": "code",
   "execution_count": 1,
   "metadata": {},
   "outputs": [
    {
     "name": "stdout",
     "output_type": "stream",
     "text": [
      "tensorflow_version: 1.14.0\n"
     ]
    }
   ],
   "source": [
    "import tensorflow as tf\n",
    "\n",
    "print(f'tensorflow_version: {tf.__version__}')"
   ]
  },
  {
   "cell_type": "code",
   "execution_count": 2,
   "metadata": {},
   "outputs": [
    {
     "name": "stdout",
     "output_type": "stream",
     "text": [
      "Tensor(\"add:0\", shape=(), dtype=int32)\n"
     ]
    }
   ],
   "source": [
    "# Declaring variables (building a computational graph)\n",
    "num1 = tf.constant(23)\n",
    "num2 = tf.constant(12)\n",
    "\n",
    "print(num1 + num2)"
   ]
  },
  {
   "cell_type": "markdown",
   "metadata": {},
   "source": [
    ">* Tensorflow versions < 2.x by default use lazy evaluation of tensors hence the result of a calculation isn't returned on the spot but rather you have to create a session(s) in which you execute your code. <br/>\n",
    "Now let's create a session to add the two tensors above."
   ]
  },
  {
   "cell_type": "code",
   "execution_count": 3,
   "metadata": {},
   "outputs": [
    {
     "name": "stdout",
     "output_type": "stream",
     "text": [
      "num1 + num2 = 35\n"
     ]
    }
   ],
   "source": [
    "# creating a session to run the add operation\n",
    "session = tf.Session()\n",
    "\n",
    "# executing the operation(s)\n",
    "result = session.run(num1 + num2)\n",
    "print(f'num1 + num2 = {result}')\n",
    "session.close()  # closing the session"
   ]
  },
  {
   "cell_type": "markdown",
   "metadata": {},
   "source": [
    "* Just like with reading files using the with syntax in python you don't have to always explicitly close a session. The with syntax automatically closes a session after execution making it 'okay' to forget closing.\n",
    "* Also note that a single session can be used to execute one or multiple operations as illustrated below."
   ]
  },
  {
   "cell_type": "code",
   "execution_count": 4,
   "metadata": {},
   "outputs": [
    {
     "name": "stdout",
     "output_type": "stream",
     "text": [
      "num1 + num2 = 35\n",
      "num1/num2 = 1.9166666666666667\n",
      "num1 * num2 = 276\n"
     ]
    }
   ],
   "source": [
    "# Add num1 and num2 using the with syntax\n",
    "with tf.Session() as session:\n",
    "    result = session.run(num1 + num2)  #addition\n",
    "    div = session.run(num1/num2)  #division\n",
    "    product = session.run(num1 * num2)  #multiplication\n",
    "    print(f'num1 + num2 = {result}')\n",
    "    print(f'num1/num2 = {div}')\n",
    "    print(f'num1 * num2 = {product}')"
   ]
  },
  {
   "cell_type": "markdown",
   "metadata": {},
   "source": [
    "## Talking Tensors:\n",
    "\n",
    "> * The main data structure in tensorflow is a tensor. A tensor is an n-dimensional array."
   ]
  },
  {
   "cell_type": "code",
   "execution_count": 18,
   "metadata": {},
   "outputs": [
    {
     "name": "stderr",
     "output_type": "stream",
     "text": [
      "/home/quanta/anaconda3/lib/python3.7/site-packages/tensorflow/python/client/session.py:1735: UserWarning: An interactive session is already active. This can cause out-of-memory errors in some cases. You must explicitly call `InteractiveSession.close()` to release resources held by the other session(s).\n",
      "  warnings.warn('An interactive session is already active. This can '\n"
     ]
    }
   ],
   "source": [
    "sess = tf.InteractiveSession()\n",
    "# declaring tensors\n",
    "t1 = tf.Variable(tf.random_normal([2,2], mean=1, stddev=1))\n",
    "t2 = tf.Variable(tf.random_normal([2,2], mean=1, stddev=1))"
   ]
  },
  {
   "cell_type": "code",
   "execution_count": 19,
   "metadata": {},
   "outputs": [],
   "source": [
    "tf.global_variables_initializer().run()"
   ]
  },
  {
   "cell_type": "code",
   "execution_count": 20,
   "metadata": {},
   "outputs": [
    {
     "name": "stdout",
     "output_type": "stream",
     "text": [
      "Tensor(\"MatMul_4:0\", shape=(2, 2), dtype=float32)\n"
     ]
    }
   ],
   "source": [
    "x = tf.matmul(t1, t2)\n",
    "print(x)"
   ]
  },
  {
   "cell_type": "code",
   "execution_count": null,
   "metadata": {},
   "outputs": [],
   "source": []
  }
 ],
 "metadata": {
  "hide_input": false,
  "kernelspec": {
   "display_name": "tf_env",
   "language": "python",
   "name": "tf_env"
  },
  "language_info": {
   "codemirror_mode": {
    "name": "ipython",
    "version": 3
   },
   "file_extension": ".py",
   "mimetype": "text/x-python",
   "name": "python",
   "nbconvert_exporter": "python",
   "pygments_lexer": "ipython3",
   "version": "3.7.3"
  }
 },
 "nbformat": 4,
 "nbformat_minor": 2
}
